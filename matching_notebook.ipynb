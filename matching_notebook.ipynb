{
 "cells": [
  {
   "cell_type": "markdown",
   "id": "91ddcf34",
   "metadata": {},
   "source": [
    "# Tide Receipt Matching Solution"
   ]
  },
  {
   "cell_type": "markdown",
   "id": "9fc1cc8f",
   "metadata": {},
   "source": [
    "## 0.) Some Task's Before Modelling"
   ]
  },
  {
   "cell_type": "markdown",
   "id": "72d13841",
   "metadata": {},
   "source": [
    "### 0.1) Loading of Data\n",
    "* Loading of the Data and having the glimpse of Data"
   ]
  },
  {
   "cell_type": "code",
   "execution_count": 3,
   "id": "4a2ca35c",
   "metadata": {},
   "outputs": [],
   "source": [
    "import pandas as pd"
   ]
  },
  {
   "cell_type": "code",
   "execution_count": 4,
   "id": "610a5a9f",
   "metadata": {},
   "outputs": [],
   "source": [
    "data = pd.read_csv(\"data_interview_test.csv\" , sep = \":\")"
   ]
  },
  {
   "cell_type": "code",
   "execution_count": 5,
   "id": "6aeaf09e",
   "metadata": {},
   "outputs": [
    {
     "data": {
      "text/html": [
       "<div>\n",
       "<style scoped>\n",
       "    .dataframe tbody tr th:only-of-type {\n",
       "        vertical-align: middle;\n",
       "    }\n",
       "\n",
       "    .dataframe tbody tr th {\n",
       "        vertical-align: top;\n",
       "    }\n",
       "\n",
       "    .dataframe thead th {\n",
       "        text-align: right;\n",
       "    }\n",
       "</style>\n",
       "<table border=\"1\" class=\"dataframe\">\n",
       "  <thead>\n",
       "    <tr style=\"text-align: right;\">\n",
       "      <th></th>\n",
       "      <th>receipt_id</th>\n",
       "      <th>company_id</th>\n",
       "      <th>matched_transaction_id</th>\n",
       "      <th>feature_transaction_id</th>\n",
       "      <th>DateMappingMatch</th>\n",
       "      <th>AmountMappingMatch</th>\n",
       "      <th>DescriptionMatch</th>\n",
       "      <th>DifferentPredictedTime</th>\n",
       "      <th>TimeMappingMatch</th>\n",
       "      <th>PredictedNameMatch</th>\n",
       "      <th>ShortNameMatch</th>\n",
       "      <th>DifferentPredictedDate</th>\n",
       "      <th>PredictedAmountMatch</th>\n",
       "      <th>PredictedTimeCloseMatch</th>\n",
       "    </tr>\n",
       "  </thead>\n",
       "  <tbody>\n",
       "    <tr>\n",
       "      <th>0</th>\n",
       "      <td>10,000</td>\n",
       "      <td>10000</td>\n",
       "      <td>10,468</td>\n",
       "      <td>10,000</td>\n",
       "      <td>0.0</td>\n",
       "      <td>0.0</td>\n",
       "      <td>0.0</td>\n",
       "      <td>1.0</td>\n",
       "      <td>0.0</td>\n",
       "      <td>0.0</td>\n",
       "      <td>0.0</td>\n",
       "      <td>1.0</td>\n",
       "      <td>0.0</td>\n",
       "      <td>0.0</td>\n",
       "    </tr>\n",
       "    <tr>\n",
       "      <th>1</th>\n",
       "      <td>10,000</td>\n",
       "      <td>10000</td>\n",
       "      <td>10,468</td>\n",
       "      <td>10,001</td>\n",
       "      <td>0.0</td>\n",
       "      <td>0.0</td>\n",
       "      <td>0.0</td>\n",
       "      <td>1.0</td>\n",
       "      <td>0.0</td>\n",
       "      <td>0.0</td>\n",
       "      <td>0.0</td>\n",
       "      <td>1.0</td>\n",
       "      <td>0.0</td>\n",
       "      <td>0.0</td>\n",
       "    </tr>\n",
       "    <tr>\n",
       "      <th>2</th>\n",
       "      <td>10,000</td>\n",
       "      <td>10000</td>\n",
       "      <td>10,468</td>\n",
       "      <td>10,003</td>\n",
       "      <td>0.0</td>\n",
       "      <td>0.0</td>\n",
       "      <td>0.0</td>\n",
       "      <td>1.0</td>\n",
       "      <td>0.0</td>\n",
       "      <td>0.0</td>\n",
       "      <td>0.0</td>\n",
       "      <td>1.0</td>\n",
       "      <td>0.0</td>\n",
       "      <td>0.0</td>\n",
       "    </tr>\n",
       "    <tr>\n",
       "      <th>3</th>\n",
       "      <td>10,000</td>\n",
       "      <td>10000</td>\n",
       "      <td>10,468</td>\n",
       "      <td>10,004</td>\n",
       "      <td>0.0</td>\n",
       "      <td>0.0</td>\n",
       "      <td>0.0</td>\n",
       "      <td>1.0</td>\n",
       "      <td>0.0</td>\n",
       "      <td>0.0</td>\n",
       "      <td>0.0</td>\n",
       "      <td>1.0</td>\n",
       "      <td>0.0</td>\n",
       "      <td>0.0</td>\n",
       "    </tr>\n",
       "    <tr>\n",
       "      <th>4</th>\n",
       "      <td>10,000</td>\n",
       "      <td>10000</td>\n",
       "      <td>10,468</td>\n",
       "      <td>10,005</td>\n",
       "      <td>0.0</td>\n",
       "      <td>0.0</td>\n",
       "      <td>0.0</td>\n",
       "      <td>1.0</td>\n",
       "      <td>0.0</td>\n",
       "      <td>0.0</td>\n",
       "      <td>0.0</td>\n",
       "      <td>1.0</td>\n",
       "      <td>0.0</td>\n",
       "      <td>0.0</td>\n",
       "    </tr>\n",
       "  </tbody>\n",
       "</table>\n",
       "</div>"
      ],
      "text/plain": [
       "  receipt_id  company_id matched_transaction_id feature_transaction_id  \\\n",
       "0     10,000       10000                 10,468                 10,000   \n",
       "1     10,000       10000                 10,468                 10,001   \n",
       "2     10,000       10000                 10,468                 10,003   \n",
       "3     10,000       10000                 10,468                 10,004   \n",
       "4     10,000       10000                 10,468                 10,005   \n",
       "\n",
       "   DateMappingMatch  AmountMappingMatch  DescriptionMatch  \\\n",
       "0               0.0                 0.0               0.0   \n",
       "1               0.0                 0.0               0.0   \n",
       "2               0.0                 0.0               0.0   \n",
       "3               0.0                 0.0               0.0   \n",
       "4               0.0                 0.0               0.0   \n",
       "\n",
       "   DifferentPredictedTime  TimeMappingMatch  PredictedNameMatch  \\\n",
       "0                     1.0               0.0                 0.0   \n",
       "1                     1.0               0.0                 0.0   \n",
       "2                     1.0               0.0                 0.0   \n",
       "3                     1.0               0.0                 0.0   \n",
       "4                     1.0               0.0                 0.0   \n",
       "\n",
       "   ShortNameMatch  DifferentPredictedDate  PredictedAmountMatch  \\\n",
       "0             0.0                     1.0                   0.0   \n",
       "1             0.0                     1.0                   0.0   \n",
       "2             0.0                     1.0                   0.0   \n",
       "3             0.0                     1.0                   0.0   \n",
       "4             0.0                     1.0                   0.0   \n",
       "\n",
       "   PredictedTimeCloseMatch  \n",
       "0                      0.0  \n",
       "1                      0.0  \n",
       "2                      0.0  \n",
       "3                      0.0  \n",
       "4                      0.0  "
      ]
     },
     "execution_count": 5,
     "metadata": {},
     "output_type": "execute_result"
    }
   ],
   "source": [
    "data.head()"
   ]
  },
  {
   "cell_type": "code",
   "execution_count": 6,
   "id": "e9deb29a",
   "metadata": {},
   "outputs": [
    {
     "name": "stdout",
     "output_type": "stream",
     "text": [
      "<class 'pandas.core.frame.DataFrame'>\n",
      "RangeIndex: 12034 entries, 0 to 12033\n",
      "Data columns (total 14 columns):\n",
      " #   Column                   Non-Null Count  Dtype  \n",
      "---  ------                   --------------  -----  \n",
      " 0   receipt_id               12034 non-null  object \n",
      " 1   company_id               12034 non-null  int64  \n",
      " 2   matched_transaction_id   12034 non-null  object \n",
      " 3   feature_transaction_id   12034 non-null  object \n",
      " 4   DateMappingMatch         12034 non-null  float64\n",
      " 5   AmountMappingMatch       12034 non-null  float64\n",
      " 6   DescriptionMatch         12034 non-null  float64\n",
      " 7   DifferentPredictedTime   12034 non-null  float64\n",
      " 8   TimeMappingMatch         12034 non-null  float64\n",
      " 9   PredictedNameMatch       12034 non-null  float64\n",
      " 10  ShortNameMatch           12034 non-null  float64\n",
      " 11  DifferentPredictedDate   12034 non-null  float64\n",
      " 12  PredictedAmountMatch     12034 non-null  float64\n",
      " 13  PredictedTimeCloseMatch  12034 non-null  float64\n",
      "dtypes: float64(10), int64(1), object(3)\n",
      "memory usage: 1.3+ MB\n"
     ]
    }
   ],
   "source": [
    "# lets see if there are any NULL values.\n",
    "data.info()"
   ]
  },
  {
   "cell_type": "markdown",
   "id": "20ddbaeb",
   "metadata": {},
   "source": [
    "### 0.2) Creating The Target Column\n",
    "* We will create a target variable which tells wheather feature_transaction_id and matched_transaction_id is same or not and that will be our y label(Target) too."
   ]
  },
  {
   "cell_type": "code",
   "execution_count": 7,
   "id": "0c418e54",
   "metadata": {},
   "outputs": [],
   "source": [
    "# Creating a Column Target which tells wheather there is a match or not.\n",
    "\n",
    "data['Target'] = 0 # filling all the Value with Zero\n",
    "\n",
    "matched_bool_array = data['matched_transaction_id'] == data['feature_transaction_id']\n",
    "data.loc[ matched_bool_array , 'Target' ] = 1 # assigning 1 value to all the rows which matched"
   ]
  },
  {
   "cell_type": "markdown",
   "id": "e3526a27",
   "metadata": {},
   "source": [
    "### 0.3) Train, CV, Test Split\n",
    "* Splitting our Data into Training , Cross Validation an Testing Purposes."
   ]
  },
  {
   "cell_type": "code",
   "execution_count": 178,
   "id": "02070c17",
   "metadata": {},
   "outputs": [],
   "source": [
    "# train test split\n",
    "from sklearn.model_selection import train_test_split\n",
    "X_train, X_test, y_train, y_test = train_test_split(data.drop( ['Target' ,'receipt_id' , 'company_id' , 'matched_transaction_id' , 'feature_transaction_id' ] , axis = 1 ) , data['Target'], stratify = data['Target'], test_size=0.20 , random_state = 8 )\n",
    "feature_names = X_train.columns\n",
    "# making a Cv dataset\n",
    "\n",
    "X_train, X_cv, y_train, y_cv = train_test_split( X_train , y_train, stratify = y_train, test_size=0.15 )"
   ]
  },
  {
   "cell_type": "markdown",
   "id": "e95f35bc",
   "metadata": {},
   "source": [
    "### 0.4) PCA Visualization\n",
    "* As the Data has more than 2-Dimensions , we will apply PCA to reduce dimensions to 2 so that we can visualize the data."
   ]
  },
  {
   "cell_type": "code",
   "execution_count": 179,
   "id": "108fde30",
   "metadata": {},
   "outputs": [
    {
     "data": {
      "image/png": "[encoded data removed]",
      "text/plain": [
       "<Figure size 432x288 with 1 Axes>"
      ]
     },
     "metadata": {
      "needs_background": "light"
     },
     "output_type": "display_data"
    }
   ],
   "source": [
    "from sklearn.decomposition import PCA\n",
    "import matplotlib.pyplot as plt\n",
    "from sklearn.preprocessing import StandardScaler\n",
    "pca = PCA(n_components=2)\n",
    "\n",
    "X_train_pca = StandardScaler().fit_transform(X_train)\n",
    "components = pca.fit_transform(X_train_pca)\n",
    "plot = plt.scatter(components[:,0], components[:,1], c=list(y_train))"
   ]
  },
  {
   "cell_type": "code",
   "execution_count": 180,
   "id": "bec4f340",
   "metadata": {},
   "outputs": [
    {
     "name": "stdout",
     "output_type": "stream",
     "text": [
      "+Tive Points - 583\n",
      "-Tive Points - 7599\n"
     ]
    }
   ],
   "source": [
    "print( f\"+Tive Points - {len(y_train[y_train == 1])}\")\n",
    "print( f\"-Tive Points - {len(y_train[y_train == 0])}\")"
   ]
  },
  {
   "cell_type": "markdown",
   "id": "6f3b494c",
   "metadata": {},
   "source": [
    "### Summary:\n",
    "* Data Doesn't have any missing Values.\n",
    "* Data Seems to be imbalanced needs balancing.\n",
    "* After PCA visualization seems like there is some kind of seperation maybe we can leverage it."
   ]
  },
  {
   "cell_type": "markdown",
   "id": "aa75e50c",
   "metadata": {},
   "source": [
    "### 0.5) Oversampling of Data(SMOTE)\n",
    "* As the Data is imbalanced we will Balance the Data with SMOTE (Creates Artificial Synthetic Data points)"
   ]
  },
  {
   "cell_type": "code",
   "execution_count": 181,
   "id": "7469ee55",
   "metadata": {},
   "outputs": [
    {
     "name": "stdout",
     "output_type": "stream",
     "text": [
      "After Oversampling -ve points - 7599\n",
      "After Oversampling +ve points - 7599\n"
     ]
    }
   ],
   "source": [
    "# oversampling the data\n",
    "from imblearn.over_sampling import SMOTE\n",
    "\n",
    "sm = SMOTE(random_state = 0)\n",
    "X_train, y_train = sm.fit_resample(X_train, y_train.ravel())\n",
    "\n",
    "print(f\"After Oversampling -ve points - {len(y_train[y_train == 0])}\")\n",
    "print(f\"After Oversampling +ve points - {len(y_train[y_train == 1])}\")"
   ]
  },
  {
   "cell_type": "markdown",
   "id": "b9be8a0f",
   "metadata": {},
   "source": [
    "## 1.) Modelling"
   ]
  },
  {
   "cell_type": "markdown",
   "id": "fba164bd",
   "metadata": {},
   "source": [
    "### 1.1) SGD(Logistic Regression)\n",
    "* Applying Logistic Regression for Different Parameters.\n",
    "* plotting the Loss for Different Parameters.\n",
    "* Plotting Precision Recall Curve.\n",
    "* Testing the Model on test data."
   ]
  },
  {
   "cell_type": "code",
   "execution_count": 182,
   "id": "dc90fa29",
   "metadata": {
    "scrolled": true
   },
   "outputs": [],
   "source": [
    "from sklearn.preprocessing import StandardScaler\n",
    "from sklearn.metrics import log_loss\n",
    "from sklearn.linear_model import SGDClassifier\n",
    "\n",
    "scaler = StandardScaler()  \n",
    "X_train_Scaled = scaler.fit_transform(X_train)\n",
    "\n",
    "training_losses , cv_losses , hyper_parameters = [] , [] , []\n",
    "\n",
    "for exp_par in range(-6 , 5  , 1):\n",
    "    model = SGDClassifier(loss = 'log_loss' , random_state = 2, alpha = 10**exp_par).fit(X_train_Scaled , y_train)\n",
    "    X_cv_scaled = scaler.transform(X_cv)\n",
    "    \n",
    "    training_loss = log_loss(y_train, model.predict_proba(X_train_Scaled))\n",
    "    cv_loss = log_loss(y_cv, model.predict_proba(X_cv_scaled))\n",
    "    \n",
    "    training_losses.append( training_loss )\n",
    "    cv_losses.append(cv_loss)\n",
    "    hyper_parameters.append(exp_par)\n",
    "    \n",
    "    \n",
    "# plotting the loss now after training\n"
   ]
  },
  {
   "cell_type": "code",
   "execution_count": 183,
   "id": "eaf4ccaa",
   "metadata": {},
   "outputs": [
    {
     "data": {
      "image/png": "[encoded data removed]",
      "text/plain": [
       "<Figure size 432x288 with 1 Axes>"
      ]
     },
     "metadata": {
      "needs_background": "light"
     },
     "output_type": "display_data"
    }
   ],
   "source": [
    "import matplotlib.pyplot as plt\n",
    "\n",
    "plt.plot(hyper_parameters , training_losses)\n",
    "plt.plot(hyper_parameters , cv_losses)\n",
    "plt.xlabel('Hyper-parameter')\n",
    "plt.ylabel('loss')\n",
    "plt.title('Loss graph')\n",
    "plt.legend(['Training Loss' , 'Cv Loss'])\n",
    "plt.show()"
   ]
  },
  {
   "cell_type": "code",
   "execution_count": 188,
   "id": "8abe7400",
   "metadata": {},
   "outputs": [
    {
     "data": {
      "text/plain": [
       "<sklearn.metrics._plot.precision_recall_curve.PrecisionRecallDisplay at 0x233d9114f70>"
      ]
     },
     "execution_count": 188,
     "metadata": {},
     "output_type": "execute_result"
    },
    {
     "data": {
      "image/png": "[encoded data removed]",
      "text/plain": [
       "<Figure size 432x288 with 1 Axes>"
      ]
     },
     "metadata": {
      "needs_background": "light"
     },
     "output_type": "display_data"
    }
   ],
   "source": [
    "from sklearn.metrics import PrecisionRecallDisplay\n",
    "model = SGDClassifier(loss = 'log_loss' , random_state = 10 , alpha = 10**-4).fit(X_train_Scaled , y_train)\n",
    "PrecisionRecallDisplay.from_estimator(model, scaler.transform(X_test), y_test)"
   ]
  },
  {
   "cell_type": "code",
   "execution_count": 191,
   "id": "9c4c189b",
   "metadata": {
    "scrolled": false
   },
   "outputs": [
    {
     "name": "stdout",
     "output_type": "stream",
     "text": [
      "Test Loss Found To be 0.2239135482300596 for Logistic_Regression\n"
     ]
    }
   ],
   "source": [
    "model = SGDClassifier(loss = 'log_loss' , random_state = 10 , alpha = 10**-4).fit(X_train_Scaled , y_train)\n",
    "X_test_scaled = scaler.transform(X_test)\n",
    "test_loss = log_loss(y_test, model.predict_proba(X_test_scaled))\n",
    "model_name = \"Logistic_Regression\"\n",
    "print(f\"Test Loss Found To be {test_loss} for {model_name}\")"
   ]
  },
  {
   "cell_type": "markdown",
   "id": "979b8527",
   "metadata": {},
   "source": [
    "### 1.2) Decision Tree\n",
    "* Applying Decision Tree for Different Parameters.\n",
    "* plotting the Loss for Different Parameters.\n",
    "* Plotting Precision Recall Curve.\n",
    "* Testing the Model on test data."
   ]
  },
  {
   "cell_type": "code",
   "execution_count": 192,
   "id": "93b579e6",
   "metadata": {},
   "outputs": [],
   "source": [
    "from sklearn.preprocessing import StandardScaler\n",
    "from sklearn.metrics import log_loss\n",
    "from sklearn.linear_model import SGDClassifier\n",
    "from sklearn import tree\n",
    "from sklearn.naive_bayes import GaussianNB\n",
    "\n",
    "scaler = StandardScaler()  \n",
    "X_train_Scaled = scaler.fit_transform(X_train)\n",
    "\n",
    "training_losses , cv_losses , hyper_parameters = [] , [] , []\n",
    "\n",
    "for exp_par in range( 2 ,12  , 1):\n",
    "    model = tree.DecisionTreeClassifier(max_depth = exp_par ).fit(X_train_Scaled , y_train)\n",
    "    X_cv_scaled = scaler.transform(X_cv)\n",
    "    \n",
    "    training_loss = log_loss(y_train, model.predict_proba(X_train_Scaled))\n",
    "    cv_loss = log_loss(y_cv, model.predict_proba(X_cv_scaled))\n",
    "    \n",
    "    training_losses.append( training_loss )\n",
    "    cv_losses.append(cv_loss)\n",
    "    hyper_parameters.append(exp_par)\n",
    "    \n",
    "    \n",
    "# plotting the loss now after training\n"
   ]
  },
  {
   "cell_type": "code",
   "execution_count": 193,
   "id": "a6a17f0b",
   "metadata": {},
   "outputs": [
    {
     "data": {
      "image/png": "[encoded data removed]",
      "text/plain": [
       "<Figure size 432x288 with 1 Axes>"
      ]
     },
     "metadata": {
      "needs_background": "light"
     },
     "output_type": "display_data"
    }
   ],
   "source": [
    "import matplotlib.pyplot as plt\n",
    "\n",
    "plt.plot(hyper_parameters , training_losses)\n",
    "plt.plot(hyper_parameters , cv_losses)\n",
    "plt.xlabel('Hyper-parameter')\n",
    "plt.ylabel('loss')\n",
    "plt.title('Loss graph')\n",
    "plt.legend(['Training Loss' , 'Cv Loss'])\n",
    "plt.show()"
   ]
  },
  {
   "cell_type": "code",
   "execution_count": 194,
   "id": "6d22b14c",
   "metadata": {},
   "outputs": [
    {
     "data": {
      "text/plain": [
       "<sklearn.metrics._plot.precision_recall_curve.PrecisionRecallDisplay at 0x233d79c0c40>"
      ]
     },
     "execution_count": 194,
     "metadata": {},
     "output_type": "execute_result"
    },
    {
     "data": {
      "image/png": "[encoded data removed]",
      "text/plain": [
       "<Figure size 432x288 with 1 Axes>"
      ]
     },
     "metadata": {
      "needs_background": "light"
     },
     "output_type": "display_data"
    }
   ],
   "source": [
    "from sklearn.metrics import PrecisionRecallDisplay\n",
    "model = tree.DecisionTreeClassifier(max_depth = 4 ).fit(X_train_Scaled , y_train)\n",
    "PrecisionRecallDisplay.from_estimator(model, scaler.transform(X_test), y_test)"
   ]
  },
  {
   "cell_type": "code",
   "execution_count": 195,
   "id": "97dae672",
   "metadata": {},
   "outputs": [
    {
     "name": "stdout",
     "output_type": "stream",
     "text": [
      "Test Loss Found To be 0.2420922080241465 for Decision Tree\n"
     ]
    }
   ],
   "source": [
    "model = tree.DecisionTreeClassifier(max_depth = 4 ).fit(X_train_Scaled , y_train)\n",
    "X_test_scaled = scaler.transform(X_test)\n",
    "test_loss = log_loss(y_test, model.predict_proba(X_test_scaled))\n",
    "model_name = \"Decision Tree\"\n",
    "print(f\"Test Loss Found To be {test_loss} for {model_name}\")"
   ]
  },
  {
   "cell_type": "markdown",
   "id": "a7381936",
   "metadata": {},
   "source": [
    "### 1.3) Random Forest(Ensemble)\n",
    "* Applying Random Forest for Different Parameters.\n",
    "* plotting the Loss for Different Parameters.\n",
    "* Plotting Precision Recall Curve.\n",
    "* Testing the Model on test data."
   ]
  },
  {
   "cell_type": "code",
   "execution_count": 196,
   "id": "fd56d42b",
   "metadata": {},
   "outputs": [],
   "source": [
    "from sklearn.preprocessing import StandardScaler\n",
    "from sklearn.metrics import log_loss\n",
    "from sklearn.linear_model import SGDClassifier\n",
    "from sklearn import tree\n",
    "from sklearn.ensemble import RandomForestClassifier\n",
    "\n",
    "scaler = StandardScaler()  \n",
    "X_train_Scaled = scaler.fit_transform(X_train)\n",
    "\n",
    "training_losses , cv_losses , hyper_parameters = [] , [] , []\n",
    "\n",
    "for exp_par in range( 0 ,4  , 1):\n",
    "    model = RandomForestClassifier(n_estimators = 10**exp_par ,max_depth=12, random_state=4).fit(X_train_Scaled , y_train)\n",
    "    X_cv_scaled = scaler.transform(X_cv)\n",
    "    \n",
    "    training_loss = log_loss(y_train, model.predict_proba(X_train_Scaled))\n",
    "    cv_loss = log_loss(y_cv, model.predict_proba(X_cv_scaled))\n",
    "    \n",
    "    training_losses.append( training_loss )\n",
    "    cv_losses.append(cv_loss)\n",
    "    hyper_parameters.append(exp_par)"
   ]
  },
  {
   "cell_type": "code",
   "execution_count": 197,
   "id": "9f68b99d",
   "metadata": {},
   "outputs": [
    {
     "data": {
      "image/png": "[encoded data removed]",
      "text/plain": [
       "<Figure size 432x288 with 1 Axes>"
      ]
     },
     "metadata": {
      "needs_background": "light"
     },
     "output_type": "display_data"
    }
   ],
   "source": [
    "import matplotlib.pyplot as plt\n",
    "\n",
    "plt.plot(hyper_parameters , training_losses)\n",
    "plt.plot(hyper_parameters , cv_losses)\n",
    "plt.xlabel('Hyper-parameter')\n",
    "plt.ylabel('loss')\n",
    "plt.title('Loss graph')\n",
    "plt.legend(['Training Loss' , 'Cv Loss'])\n",
    "plt.show()"
   ]
  },
  {
   "cell_type": "code",
   "execution_count": 198,
   "id": "fa0b8eb6",
   "metadata": {},
   "outputs": [
    {
     "data": {
      "text/plain": [
       "<sklearn.metrics._plot.precision_recall_curve.PrecisionRecallDisplay at 0x233d4686fd0>"
      ]
     },
     "execution_count": 198,
     "metadata": {},
     "output_type": "execute_result"
    },
    {
     "data": {
      "image/png": "[encoded data removed]",
      "text/plain": [
       "<Figure size 432x288 with 1 Axes>"
      ]
     },
     "metadata": {
      "needs_background": "light"
     },
     "output_type": "display_data"
    }
   ],
   "source": [
    "from sklearn.metrics import PrecisionRecallDisplay\n",
    "model = RandomForestClassifier(n_estimators = 10**2 ,max_depth=12, random_state=2).fit(X_train_Scaled , y_train)\n",
    "PrecisionRecallDisplay.from_estimator(model, scaler.transform(X_test), y_test)"
   ]
  },
  {
   "cell_type": "code",
   "execution_count": 199,
   "id": "18bb8331",
   "metadata": {},
   "outputs": [
    {
     "name": "stdout",
     "output_type": "stream",
     "text": [
      "Test Loss Found To be 0.21696142398681997 for Random Forest\n"
     ]
    }
   ],
   "source": [
    "model = RandomForestClassifier(n_estimators = 10**2 ,max_depth=12, random_state=3).fit(X_train_Scaled , y_train)\n",
    "X_test_scaled = scaler.transform(X_test)\n",
    "test_loss = log_loss(y_test, model.predict_proba(X_test_scaled))\n",
    "model_name = \"Random Forest\"\n",
    "print(f\"Test Loss Found To be {test_loss} for {model_name}\")"
   ]
  },
  {
   "cell_type": "markdown",
   "id": "27f25c8d",
   "metadata": {},
   "source": [
    "### Summary\n",
    "* Decision Seems to be overfitting Clearly after certain depth.\n",
    "* Logistic Regression seems to work best fit on the data till now.\n",
    "* Random Forest Seems to work good but observing goodness of fit , Cost , and other Metric's Lets go with Logistic Regression."
   ]
  },
  {
   "cell_type": "markdown",
   "id": "0becd3c6",
   "metadata": {},
   "source": [
    "### 2.1) Feature Importance\n",
    "* As we are using the Logisitic Regression so the weights(Coeffients) can also be interpreted as the importance."
   ]
  },
  {
   "cell_type": "code",
   "execution_count": 204,
   "id": "927ded68",
   "metadata": {},
   "outputs": [
    {
     "data": {
      "image/png": "[encoded data removed]",
      "text/plain": [
       "<Figure size 432x288 with 1 Axes>"
      ]
     },
     "metadata": {
      "needs_background": "light"
     },
     "output_type": "display_data"
    }
   ],
   "source": [
    "import math\n",
    "model = SGDClassifier(loss = 'log_loss' , random_state = 10 , alpha = 10**-4).fit(X_train_Scaled , y_train)\n",
    "\n",
    "feature_names = feature_names\n",
    "feature_importance = pd.DataFrame(feature_names, columns = [\"feature\"])\n",
    "\n",
    "weights = model.coef_[0]\n",
    "feature_importance[\"importance\"] = abs(weights)\n",
    "feature_importance = feature_importance.sort_values(by = [\"importance\"], ascending=False)\n",
    "ax = feature_importance.plot.barh(x='feature', y='importance')\n",
    "plt.show()"
   ]
  },
  {
   "cell_type": "markdown",
   "id": "40461850",
   "metadata": {},
   "source": [
    "### Summary\n",
    "* DateMappingMatch seems to be holding the highest value as a feature."
   ]
  },
  {
   "cell_type": "markdown",
   "id": "ff263652",
   "metadata": {},
   "source": [
    "### 3.1) Creating train.py file\n",
    "* Combining All the code above to create a final pipeline(Model) for training."
   ]
  },
  {
   "cell_type": "code",
   "execution_count": 205,
   "id": "6eb35d96",
   "metadata": {},
   "outputs": [],
   "source": [
    "# train.py\n",
    "import pandas as pd\n",
    "from sklearn.pipeline import Pipeline\n",
    "from sklearn.linear_model import SGDClassifier\n",
    "from sklearn.model_selection import train_test_split\n",
    "from imblearn.over_sampling import SMOTE\n",
    "import pickle\n",
    "# loading and creating the Target Variable\n",
    "data = pd.read_csv(\"data_interview_test.csv\" , sep = \":\")\n",
    "data['Target'] = 0 # filling all the Value with Zero\n",
    "matched_bool_array = data['matched_transaction_id'] == data['feature_transaction_id']\n",
    "data.loc[ matched_bool_array , 'Target' ] = 1 # assigning 1 value to all the rows which matched\n",
    "\n",
    "# train cv , test split\n",
    "X_train, X_test, y_train, y_test = train_test_split( data.drop( ['Target' ,'receipt_id' , 'company_id' , 'matched_transaction_id' , 'feature_transaction_id' ] , axis = 1 ) , data['Target'], stratify = data['Target'], test_size=0.20 , random_state = 5 )\n",
    "feature_names = X_train.columns\n",
    "X_train, X_cv, y_train, y_cv = train_test_split( X_train , y_train, stratify = y_train, test_size=0.15 )\n",
    "\n",
    "# over sampling the data\n",
    "sm = SMOTE(random_state = 0)\n",
    "X_train, y_train = sm.fit_resample(X_train, y_train.ravel())\n",
    "\n",
    "# forming a pipeline for transforming the data followed by training the model\n",
    "\n",
    "pipeline = Pipeline([('scaler', StandardScaler()), ('SGD',SGDClassifier(loss='log_loss',random_state = 2,alpha = 10**-4) ) ])\n",
    "pipeline.fit(X_train.values , y_train)\n",
    "\n",
    "with open('log_regress.sav', 'wb') as model:\n",
    "    pickle.dump(pipeline , model)\n",
    "    \n",
    "with open('log_regress.sav' , 'rb') as model:\n",
    "    pipeline = pickle.load(model)\n",
    "\n",
    "#pipeline.score(X_test.values , y_test)"
   ]
  },
  {
   "cell_type": "markdown",
   "id": "e8f2ff37",
   "metadata": {},
   "source": [
    "### 3.1) Creating predict.py\n",
    "* predict contains the a predict_rank function which recieves a pipeline(model) , and input_data(receipt data in 2-D format).\n",
    "* predict_and_rank function outputs the data in order of the matched likelyhood and a extra value at the end of each row containing the probability."
   ]
  },
  {
   "cell_type": "code",
   "execution_count": 206,
   "id": "17a7ae81",
   "metadata": {},
   "outputs": [
    {
     "name": "stdout",
     "output_type": "stream",
     "text": [
      "['40', 'company_1', 'qwe', 0.2, 0.2, 0.1, 0.4, 0.5, 0.1, 0.4, 0.1, 0.2, 0.2, {'prob': 0.9358477252809482}]\n",
      "['40', 'company_1', 'abc', 0.1, 0.2, 0.1, 0.4, 0.5, 0.1, 0.4, 0.1, 0.2, 0.2, {'prob': 0.873844807593935}]\n",
      "['40', 'company_1', 'xyz', 0.1, 0.2, 0.1, 0.4, 0.5, 0.1, 0.4, 0.1, 0.2, 0.1, {'prob': 0.8646832872533532}]\n"
     ]
    }
   ],
   "source": [
    "# predict.py\n",
    "import pickle\n",
    "def predict_and_rank(model , input_):\n",
    "    data = input_.copy()\n",
    "    length = len(data)\n",
    "    \n",
    "    # appending probablities of having a match at the end of each row.\n",
    "    for iter_ in range(length):\n",
    "        probability =  { 'prob':model.predict_proba( [data[iter_][3:]] )[0][1] }\n",
    "        data[iter_].append( probability )\n",
    "    \n",
    "    # sorting on the Basis of Probability which is appended in each row just previously.\n",
    "    data.sort(key=lambda a: a[-1]['prob'] ,reverse = True)\n",
    "    return data\n",
    "\n",
    "if __name__ == '__main__':\n",
    "    # please give the input to the above function only in this order\n",
    "    \"\"\"\" \n",
    "    Please give the input in the following order - \n",
    "    -------------------------------------------------------------------------------------------------------\n",
    "    receipt_id ,company_id ,feature_transaction_id\n",
    "    DateMappingMatch, AmountMappingMatch, DescriptionMatch,DifferentPredictedTime, TimeMappingMatch, \n",
    "    PredictedNameMatch,ShortNameMatch, DifferentPredictedDate, PredictedAmountMatch,PredictedTimeCloseMatch \n",
    "    -------------------------------------------------------------------------------------------------------\n",
    "    \"\"\"\n",
    "    # just some sample testing here\n",
    "    sample = [\n",
    "    ['40' , 'company_1' , 'xyz' , 0.1,0.2,0.1,0.4,0.5,0.1,0.4,0.1 , 0.2 ,0.1] ,\n",
    "    ['40' , 'company_1' , 'abc' , 0.1,0.2,0.1,0.4,0.5,0.1,0.4,0.1 , 0.2 ,0.2] , \n",
    "    ['40' , 'company_1' , 'qwe' , 0.2,0.2,0.1,0.4,0.5,0.1,0.4,0.1 , 0.2 ,0.2]\n",
    "    ]\n",
    "    \n",
    "    with open('log_regress.sav' , 'rb') as model:\n",
    "        pipeline = pickle.load(model)\n",
    "    \n",
    "    print(*predict_and_rank(pipeline , sample) , sep  ='\\n')"
   ]
  },
  {
   "cell_type": "code",
   "execution_count": 207,
   "id": "33bd60d9",
   "metadata": {},
   "outputs": [],
   "source": [
    "#do train test split -- Done\n",
    "#data visulaization , PCA (optional) -- Done\n",
    "#check imbalancing and balance. --done\n",
    "#check different models. --done\n",
    "#implement precision recall function. --done\n",
    "#check feature importance. --done\n",
    "#build pre and post pipeline and prepare sorting mechanism and runtime. -- done \n",
    "#documentation. -- done\n",
    "#structurize and commit."
   ]
  },
  {
   "cell_type": "code",
   "execution_count": 208,
   "id": "f11821ac",
   "metadata": {
    "scrolled": true
   },
   "outputs": [],
   "source": [
    "!pip freeze > requirements.txt"
   ]
  },
  {
   "cell_type": "code",
   "execution_count": 209,
   "id": "a2130fbf",
   "metadata": {},
   "outputs": [],
   "source": [
    "from predict import predict_and_rank"
   ]
  },
  {
   "cell_type": "code",
   "execution_count": 214,
   "id": "3d5472c8",
   "metadata": {},
   "outputs": [
    {
     "name": "stdout",
     "output_type": "stream",
     "text": [
      "['40', 'company_1', 'qwe', 0.2, 0.2, 0.1, 0.4, 0.5, 0.1, 0.4, 0.1, 0.2, 0.2, {'prob': 0.9358477252809482}]\n",
      "['40', 'company_1', 'abc', 0.1, 0.2, 0.1, 0.4, 0.5, 0.1, 0.4, 0.1, 0.2, 0.2, {'prob': 0.873844807593935}]\n",
      "['40', 'company_1', 'xyz', 0.1, 0.2, 0.1, 0.4, 0.5, 0.1, 0.4, 0.1, 0.2, 0.1, {'prob': 0.8646832872533532}]\n"
     ]
    }
   ],
   "source": [
    "sample = [\n",
    "    ['40' , 'company_1' , 'xyz' , 0.1,0.2,0.1,0.4,0.5,0.1,0.4,0.1 , 0.2 ,0.1] ,\n",
    "    ['40' , 'company_1' , 'abc' , 0.1,0.2,0.1,0.4,0.5,0.1,0.4,0.1 , 0.2 ,0.2] , \n",
    "    ['40' , 'company_1' , 'qwe' , 0.2,0.2,0.1,0.4,0.5,0.1,0.4,0.1 , 0.2 ,0.2]\n",
    "    ]\n",
    "with open('log_regress.sav' , 'rb') as model:\n",
    "        pipeline = pickle.load(model)\n",
    "print(*predict_and_rank(pipeline , sample) , sep = '\\n')"
   ]
  },
  {
   "cell_type": "code",
   "execution_count": null,
   "id": "f2070e44",
   "metadata": {},
   "outputs": [],
   "source": []
  }
 ],
 "metadata": {
  "kernelspec": {
   "display_name": "Python 3 (ipykernel)",
   "language": "python",
   "name": "python3"
  },
  "language_info": {
   "codemirror_mode": {
    "name": "ipython",
    "version": 3
   },
   "file_extension": ".py",
   "mimetype": "text/x-python",
   "name": "python",
   "nbconvert_exporter": "python",
   "pygments_lexer": "ipython3",
   "version": "3.9.1"
  }
 },
 "nbformat": 4,
 "nbformat_minor": 5
}
